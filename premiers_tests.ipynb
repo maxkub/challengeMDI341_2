{
 "cells": [
  {
   "cell_type": "markdown",
   "metadata": {},
   "source": [
    "# premiers tests"
   ]
  },
  {
   "cell_type": "code",
   "execution_count": 55,
   "metadata": {
    "collapsed": false
   },
   "outputs": [
    {
     "name": "stdout",
     "output_type": "stream",
     "text": [
      "The autoreload extension is already loaded. To reload it, use:\n",
      "  %reload_ext autoreload\n"
     ]
    }
   ],
   "source": [
    "import numpy as np\n",
    "from scipy import io\n",
    "import matplotlib.pyplot as plt\n",
    "import seaborn as sns\n",
    "import pandas as pd\n",
    "\n",
    "%matplotlib inline\n",
    "import mpld3\n",
    "#mpld3.enable_notebook()\n",
    "\n",
    "import warnings\n",
    "warnings.filterwarnings('ignore')\n",
    "\n",
    "%load_ext autoreload\n",
    "%autoreload 2"
   ]
  },
  {
   "cell_type": "code",
   "execution_count": 2,
   "metadata": {
    "collapsed": false
   },
   "outputs": [
    {
     "name": "stdout",
     "output_type": "stream",
     "text": [
      "['galleryLabel', 'resultsId', 'probeId', '__header__', '__globals__', 'galleryId', 'resultsScore', 'probeLabel', '__version__']\n"
     ]
    }
   ],
   "source": [
    "train = io.loadmat('/home/max/projects/challengeMDI343/data/data_train.mat')\n",
    "print(train.keys())"
   ]
  },
  {
   "cell_type": "code",
   "execution_count": 3,
   "metadata": {
    "collapsed": false
   },
   "outputs": [
    {
     "name": "stdout",
     "output_type": "stream",
     "text": [
      "0.941790004856\n"
     ]
    }
   ],
   "source": [
    "predIdTrain = train['resultsId'][:, 0 ,0]  # identifiants prédits avec le premier ranking\n",
    "predIdx = np.searchsorted(train['galleryId'][:, 0], predIdTrain) # extraction des indices dans la gallery\n",
    "predLabel = train['galleryLabel'][predIdx, 0]  # extraction des labels correspondant\n",
    "\n",
    "accuracy = np.mean(predLabel == train['probeLabel'][:, 0])\n",
    "print(accuracy)"
   ]
  },
  {
   "cell_type": "code",
   "execution_count": 4,
   "metadata": {
    "collapsed": false
   },
   "outputs": [
    {
     "data": {
      "text/plain": [
       "array([[     3],\n",
       "       [     4],\n",
       "       [     6],\n",
       "       ..., \n",
       "       [159294],\n",
       "       [159295],\n",
       "       [159297]], dtype=int32)"
      ]
     },
     "execution_count": 4,
     "metadata": {},
     "output_type": "execute_result"
    }
   ],
   "source": [
    "train['galleryId']"
   ]
  },
  {
   "cell_type": "code",
   "execution_count": 6,
   "metadata": {
    "collapsed": false
   },
   "outputs": [
    {
     "data": {
      "text/plain": [
       "array([[45407],\n",
       "       [26453],\n",
       "       [45530],\n",
       "       ..., \n",
       "       [43665],\n",
       "       [12731],\n",
       "       [44403]], dtype=int32)"
      ]
     },
     "execution_count": 6,
     "metadata": {},
     "output_type": "execute_result"
    }
   ],
   "source": [
    "train['galleryLabel']"
   ]
  },
  {
   "cell_type": "code",
   "execution_count": 8,
   "metadata": {
    "collapsed": false
   },
   "outputs": [
    {
     "data": {
      "text/plain": [
       "array([[  7490],\n",
       "       [  9797],\n",
       "       [114064],\n",
       "       ..., \n",
       "       [108332],\n",
       "       [153651],\n",
       "       [ 19652]], dtype=int32)"
      ]
     },
     "execution_count": 8,
     "metadata": {},
     "output_type": "execute_result"
    }
   ],
   "source": [
    "train['probeId']"
   ]
  },
  {
   "cell_type": "code",
   "execution_count": 41,
   "metadata": {
    "collapsed": false
   },
   "outputs": [
    {
     "name": "stdout",
     "output_type": "stream",
     "text": [
      "[[13721]\n",
      " [13722]\n",
      " [48061]\n",
      " ..., \n",
      " [37873]\n",
      " [37874]\n",
      " [37875]]\n",
      "(47363, 1)\n"
     ]
    }
   ],
   "source": [
    "print train['probeLabel']\n",
    "print train['probeLabel'].shape"
   ]
  },
  {
   "cell_type": "code",
   "execution_count": 40,
   "metadata": {
    "collapsed": false
   },
   "outputs": [
    {
     "data": {
      "text/plain": [
       "(47363, 8, 100)"
      ]
     },
     "execution_count": 40,
     "metadata": {},
     "output_type": "execute_result"
    }
   ],
   "source": [
    "train['resultsId'].shape"
   ]
  },
  {
   "cell_type": "code",
   "execution_count": 12,
   "metadata": {
    "collapsed": false
   },
   "outputs": [
    {
     "name": "stdout",
     "output_type": "stream",
     "text": [
      "[[ 41004  78881  41004 ...,  41004  41004  41004]\n",
      " [ 13945  35678  35678 ...,  35678  81141  35678]\n",
      " [114135 114135 114135 ..., 114135 114135 114135]\n",
      " ..., \n",
      " [  5686   5686   5686 ...,   5686   5686   5686]\n",
      " [ 18655  18655  18655 ...,  18655  18655  18655]\n",
      " [ 70127  70127  70127 ...,  70127  70127  70127]]\n"
     ]
    }
   ],
   "source": [
    "predIdTrain = train['resultsId'][:, : ,0]  # identifiants prédits avec le premier ranking\n",
    "\n",
    "print predIdTrain"
   ]
  },
  {
   "cell_type": "markdown",
   "metadata": {},
   "source": [
    "## Dictionnaires Id:Label"
   ]
  },
  {
   "cell_type": "code",
   "execution_count": 46,
   "metadata": {
    "collapsed": false
   },
   "outputs": [
    {
     "name": "stdout",
     "output_type": "stream",
     "text": [
      "13721\n",
      "45407\n"
     ]
    }
   ],
   "source": [
    "probes = { train['probeId'].ravel()[i]: train['probeLabel'].ravel()[i] for i in range(len(train['probeLabel']))}\n",
    "\n",
    "print probes[7490]\n",
    "\n",
    "gallery = {train['galleryId'].ravel()[i]: train['galleryLabel'].ravel()[i] for i in range(len(train['galleryLabel']))}\n",
    "\n",
    "print gallery[3]"
   ]
  },
  {
   "cell_type": "markdown",
   "metadata": {},
   "source": [
    "## Les fonction de similarités sont-elles d'accord entre elles ?"
   ]
  },
  {
   "cell_type": "code",
   "execution_count": 27,
   "metadata": {
    "collapsed": false
   },
   "outputs": [],
   "source": [
    "predIdTrain = train['resultsId'][:, : ,0]  # identifiants prédits avec le premier ranking\n",
    "\n",
    "count_uniques = []\n",
    "for i in range(len(predIdTrain)):\n",
    "    count_uniques.append(len(np.unique(predIdTrain[i])))\n",
    "    \n",
    "count_uniques = np.asarray(count_uniques)"
   ]
  },
  {
   "cell_type": "code",
   "execution_count": 51,
   "metadata": {
    "collapsed": false
   },
   "outputs": [
    {
     "data": {
      "text/plain": [
       "<matplotlib.text.Text at 0x7f018e072d90>"
      ]
     },
     "execution_count": 51,
     "metadata": {},
     "output_type": "execute_result"
    },
    {
     "data": {
      "image/png": "[encoded data removed]",
      "text/plain": [
       "<matplotlib.figure.Figure at 0x7f018e63a590>"
      ]
     },
     "metadata": {},
     "output_type": "display_data"
    }
   ],
   "source": [
    "fig = plt.figure(figsize=(13,9))\n",
    "ax = fig.gca()\n",
    "sns.distplot(count_uniques, kde=False, hist=True, ax=ax)\n",
    "ax.set_xlabel('number of different Id at rank 1 for each probe')\n",
    "ax.set_ylabel('count')"
   ]
  },
  {
   "cell_type": "code",
   "execution_count": 79,
   "metadata": {
    "collapsed": true
   },
   "outputs": [],
   "source": [
    "predIdTrain = train['resultsId']  # identifiants prédits\n",
    "\n",
    "count_uniques = []\n",
    "for i in range(len(predIdTrain)):\n",
    "    count_uniques.append(len(np.unique(predIdTrain[i,:,:3])))\n",
    "    \n",
    "count_uniques = np.asarray(count_uniques)"
   ]
  },
  {
   "cell_type": "code",
   "execution_count": 80,
   "metadata": {
    "collapsed": false
   },
   "outputs": [
    {
     "data": {
      "text/plain": [
       "<matplotlib.text.Text at 0x7f018cebba50>"
      ]
     },
     "execution_count": 80,
     "metadata": {},
     "output_type": "execute_result"
    },
    {
     "data": {
      "image/png": "[encoded data removed]",
      "text/plain": [
       "<matplotlib.figure.Figure at 0x7f018ce7cbd0>"
      ]
     },
     "metadata": {},
     "output_type": "display_data"
    }
   ],
   "source": [
    "fig = plt.figure(figsize=(13,9))\n",
    "ax = fig.gca()\n",
    "sns.distplot(count_uniques, kde=False, hist=True, ax=ax)\n",
    "ax.set_xlabel('number of different Id at all ranks and all similarities for each probe')\n",
    "ax.set_ylabel('count')"
   ]
  },
  {
   "cell_type": "markdown",
   "metadata": {},
   "source": [
    "## les scores des différentes fonctions sont-ils comparables ?"
   ]
  },
  {
   "cell_type": "code",
   "execution_count": 57,
   "metadata": {
    "collapsed": false
   },
   "outputs": [
    {
     "name": "stdout",
     "output_type": "stream",
     "text": [
      "(4736300, 8)\n"
     ]
    },
    {
     "data": {
      "text/html": [
       "<div>\n",
       "<table border=\"1\" class=\"dataframe\">\n",
       "  <thead>\n",
       "    <tr style=\"text-align: right;\">\n",
       "      <th></th>\n",
       "      <th>0</th>\n",
       "      <th>1</th>\n",
       "      <th>2</th>\n",
       "      <th>3</th>\n",
       "      <th>4</th>\n",
       "      <th>5</th>\n",
       "      <th>6</th>\n",
       "      <th>7</th>\n",
       "    </tr>\n",
       "  </thead>\n",
       "  <tbody>\n",
       "    <tr>\n",
       "      <th>count</th>\n",
       "      <td>4736300.000000</td>\n",
       "      <td>4736300.000000</td>\n",
       "      <td>4736300.000000</td>\n",
       "      <td>4736300.000000</td>\n",
       "      <td>4736300.000000</td>\n",
       "      <td>4736300.000000</td>\n",
       "      <td>4736300.000000</td>\n",
       "      <td>4736300.000000</td>\n",
       "    </tr>\n",
       "    <tr>\n",
       "      <th>mean</th>\n",
       "      <td>3331.044678</td>\n",
       "      <td>3087.869385</td>\n",
       "      <td>3069.908447</td>\n",
       "      <td>3058.168945</td>\n",
       "      <td>3278.648682</td>\n",
       "      <td>3096.737793</td>\n",
       "      <td>3079.143066</td>\n",
       "      <td>3067.389893</td>\n",
       "    </tr>\n",
       "    <tr>\n",
       "      <th>std</th>\n",
       "      <td>2564.292885</td>\n",
       "      <td>711.197252</td>\n",
       "      <td>619.892833</td>\n",
       "      <td>579.492747</td>\n",
       "      <td>1991.642915</td>\n",
       "      <td>654.709167</td>\n",
       "      <td>591.861470</td>\n",
       "      <td>561.824428</td>\n",
       "    </tr>\n",
       "    <tr>\n",
       "      <th>min</th>\n",
       "      <td>2002.613892</td>\n",
       "      <td>2002.149414</td>\n",
       "      <td>1998.202271</td>\n",
       "      <td>1997.507324</td>\n",
       "      <td>1997.507324</td>\n",
       "      <td>1996.812866</td>\n",
       "      <td>1996.118652</td>\n",
       "      <td>1995.656738</td>\n",
       "    </tr>\n",
       "    <tr>\n",
       "      <th>25%</th>\n",
       "      <td>2648.755859</td>\n",
       "      <td>2631.014404</td>\n",
       "      <td>2625.962402</td>\n",
       "      <td>2622.177734</td>\n",
       "      <td>2655.110596</td>\n",
       "      <td>2650.794189</td>\n",
       "      <td>2646.600098</td>\n",
       "      <td>2642.861328</td>\n",
       "    </tr>\n",
       "    <tr>\n",
       "      <th>50%</th>\n",
       "      <td>3048.098389</td>\n",
       "      <td>3038.471436</td>\n",
       "      <td>3031.282959</td>\n",
       "      <td>3025.195557</td>\n",
       "      <td>3056.035645</td>\n",
       "      <td>3048.057373</td>\n",
       "      <td>3041.494873</td>\n",
       "      <td>3035.865356</td>\n",
       "    </tr>\n",
       "    <tr>\n",
       "      <th>75%</th>\n",
       "      <td>3438.023193</td>\n",
       "      <td>3413.328552</td>\n",
       "      <td>3401.693481</td>\n",
       "      <td>3392.354004</td>\n",
       "      <td>3449.144592</td>\n",
       "      <td>3426.806030</td>\n",
       "      <td>3413.711121</td>\n",
       "      <td>3402.642639</td>\n",
       "    </tr>\n",
       "    <tr>\n",
       "      <th>max</th>\n",
       "      <td>50000.000000</td>\n",
       "      <td>50000.000000</td>\n",
       "      <td>50000.000000</td>\n",
       "      <td>50000.000000</td>\n",
       "      <td>50000.000000</td>\n",
       "      <td>50000.000000</td>\n",
       "      <td>50000.000000</td>\n",
       "      <td>45528.132812</td>\n",
       "    </tr>\n",
       "  </tbody>\n",
       "</table>\n",
       "</div>"
      ],
      "text/plain": [
       "                    0               1               2               3  \\\n",
       "count  4736300.000000  4736300.000000  4736300.000000  4736300.000000   \n",
       "mean      3331.044678     3087.869385     3069.908447     3058.168945   \n",
       "std       2564.292885      711.197252      619.892833      579.492747   \n",
       "min       2002.613892     2002.149414     1998.202271     1997.507324   \n",
       "25%       2648.755859     2631.014404     2625.962402     2622.177734   \n",
       "50%       3048.098389     3038.471436     3031.282959     3025.195557   \n",
       "75%       3438.023193     3413.328552     3401.693481     3392.354004   \n",
       "max      50000.000000    50000.000000    50000.000000    50000.000000   \n",
       "\n",
       "                    4               5               6               7  \n",
       "count  4736300.000000  4736300.000000  4736300.000000  4736300.000000  \n",
       "mean      3278.648682     3096.737793     3079.143066     3067.389893  \n",
       "std       1991.642915      654.709167      591.861470      561.824428  \n",
       "min       1997.507324     1996.812866     1996.118652     1995.656738  \n",
       "25%       2655.110596     2650.794189     2646.600098     2642.861328  \n",
       "50%       3056.035645     3048.057373     3041.494873     3035.865356  \n",
       "75%       3449.144592     3426.806030     3413.711121     3402.642639  \n",
       "max      50000.000000    50000.000000    50000.000000    45528.132812  "
      ]
     },
     "execution_count": 57,
     "metadata": {},
     "output_type": "execute_result"
    }
   ],
   "source": [
    "predScores = train['resultsScore']\n",
    "\n",
    "stats = predScores.reshape((-1,8))\n",
    "\n",
    "print stats.shape\n",
    "\n",
    "df = pd.DataFrame(data=stats)\n",
    "\n",
    "df.describe()"
   ]
  },
  {
   "cell_type": "code",
   "execution_count": 50,
   "metadata": {
    "collapsed": false
   },
   "outputs": [
    {
     "name": "stdout",
     "output_type": "stream",
     "text": [
      "[ 41004  29667 130431 116675 127651  69335 128410  84230   3121 104012\n",
      "  52991  69835 104185 138474  80768   2766  61940 147829  39020  35782\n",
      " 109896  96758  97996  45482  69441 138990  79180  87602  67339  42662\n",
      " 113501  80390 106340 114389  72298   6252 117743 115502 146421 116390\n",
      " 124248 108259  34585  26698  34147 137578  80382 154864   3385  78881\n",
      " 122936 127736  86860  54290  40737  58128  28434 142935  10091 119125\n",
      "  84256  50198 123947 149039  72798  78905  39852  24315 118382  43469\n",
      "  76809  80941 150796  67329  86659  98221  62133  30798  61721  66996\n",
      "  95400  57972 147295  45788 123696  36323  44499  11513  56181  95195\n",
      "  58703  28548  28286 148063  25759 101042  37154  24446  20515 158688]\n",
      "\n",
      "[13721, 26694, 7610, 65463, 17181, 51818, 57058, 56302, 18531, 51623, 7436, 22548, 15854, 50267, 51968, 20806, 24054, 11472, 20618, 21863, 17236, 15819, 51726, 21079, 11526, 47919, 66100, 7417, 67888, 21378, 16657, 55552, 12050, 14359, 11679, 18628, 16666, 58540, 66124, 15070, 7361, 14237, 14365, 18392, 24132, 51666, 12613, 7770, 17530, 5487, 52744, 14610, 7270, 22670, 12393, 11187, 21077, 62876, 20007, 48935, 7366, 9575, 62662, 14870, 10282, 52724, 17278, 18635, 12743, 9200, 17937, 12407, 52942, 65404, 52758, 11095, 23967, 15502, 20012, 62824, 16233, 24403, 54406, 19042, 7868, 34817, 23462, 15548, 6991, 18349, 10721, 18226, 16348, 50527, 15849, 5938, 18707, 1473, 49209, 22156]\n",
      "\n",
      "[ 3.65962338  3.93013477  3.94002008  3.94081807  3.94730282  3.95585632\n",
      "  3.96414828  3.96444774  3.96607804  3.96714759  3.97098446  3.97867513\n",
      "  3.97935629  3.99076939  3.99573755  3.99781799  4.00041962  4.00050449\n",
      "  4.00218773  4.00405979  4.00744915  4.00920486  4.01266384  4.01497221\n",
      "  4.01566076  4.01934481  4.01953888  4.02590132  4.03177881  4.03224182\n",
      "  4.03795767  4.03862238  4.04349279  4.04473209  4.04505682  4.04931116\n",
      "  4.05425978  4.05908775  4.05926037  4.06008434  4.06068087  4.06121731\n",
      "  4.06288242  4.06452942  4.06528139  4.0659523   4.06603146  4.0663929\n",
      "  4.06709385  4.06710148  4.06719112  4.06747341  4.07037497  4.07046509\n",
      "  4.07051945  4.07167196  4.07419014  4.07633162  4.07896137  4.07933664\n",
      "  4.08262873  4.08403444  4.08409262  4.08605909  4.08989382  4.09121561\n",
      "  4.09147024  4.09185934  4.09334517  4.09394407  4.09423018  4.09641933\n",
      "  4.09814024  4.09852457  4.09869957  4.0989151   4.10361385  4.1043129\n",
      "  4.1048522   4.10495329  4.1051383   4.10567236  4.10585594  4.10744095\n",
      "  4.10936499  4.10954857  4.10989618  4.11023903  4.11055231  4.11101484\n",
      "  4.11123419  4.11199903  4.11288881  4.11357021  4.11367941  4.11368227\n",
      "  4.11413908  4.11419344  4.11546373  4.11577845]\n",
      "\n",
      "real label: [13721]\n"
     ]
    }
   ],
   "source": [
    "predIdf0 = train['resultsId'][0, 0 ,:]  # identifiants prédits avec la premiere fonction de similarité\n",
    "\n",
    "predLabelf0 = [gallery[Id] for Id in predIdf0]\n",
    "\n",
    "predScoref0 = 1./train['resultsScore'][0, 0 ,:] * 1e4  # Scores prédits avec la premiere fonction de similarité\n",
    "\n",
    "print predIdf0\n",
    "print\n",
    "print predLabelf0\n",
    "print\n",
    "print predScoref0\n",
    "print\n",
    "print 'real label:', train['probeLabel'][0]"
   ]
  },
  {
   "cell_type": "markdown",
   "metadata": {},
   "source": [
    "## Les scores étant comparables, on peut choisir le plus élevé parmis les 8 similarités"
   ]
  },
  {
   "cell_type": "code",
   "execution_count": 71,
   "metadata": {
    "collapsed": false
   },
   "outputs": [
    {
     "name": "stdout",
     "output_type": "stream",
     "text": [
      "(47363, 8)\n",
      "[6 7 6 5 4 5 4 6 5 4]\n",
      "(47363,)\n",
      "[13721 13722 48061 13724 52818 48068 13727 41955 48073 19604]\n",
      "acc with best score: 0.936955007073\n",
      "\n",
      "f0 acc: 0.941790004856\n"
     ]
    }
   ],
   "source": [
    "predScores = train['resultsScore'][:,:,0]\n",
    "\n",
    "print predScores.shape\n",
    "\n",
    "index = np.argmax(predScores,axis=1)\n",
    "\n",
    "print index[:10]\n",
    "print index.shape\n",
    "\n",
    "predId = [train['resultsId'][i,index[i],0] for i in range(len(index))]\n",
    "predLabel = np.asarray([gallery[Id] for Id in predId])\n",
    "\n",
    "print predLabel[:10]\n",
    "\n",
    "accuracy = np.mean(predLabel == train['probeLabel'][:, 0])\n",
    "print \"acc with best score:\", accuracy\n",
    "\n",
    "\n",
    "predIdTrain = train['resultsId'][:, 0 ,0]  # identifiants prédits avec le premier ranking\n",
    "predIdx = np.searchsorted(train['galleryId'][:, 0], predIdTrain) # extraction des indices dans la gallery\n",
    "predLabel = train['galleryLabel'][predIdx, 0]  # extraction des labels correspondant\n",
    "\n",
    "accuracy = np.mean(predLabel == train['probeLabel'][:, 0])\n",
    "print\n",
    "print \"f0 acc:\", accuracy"
   ]
  },
  {
   "cell_type": "markdown",
   "metadata": {},
   "source": [
    "Prendre le meilleur score, parmis les 8 fonctions de similarité pour chaque probe n'améliore pas le résultat."
   ]
  },
  {
   "cell_type": "markdown",
   "metadata": {},
   "source": [
    "## En prenant l'identifiant majoritaire, parmis les 8 similarités"
   ]
  },
  {
   "cell_type": "code",
   "execution_count": 102,
   "metadata": {
    "collapsed": false
   },
   "outputs": [
    {
     "name": "stdout",
     "output_type": "stream",
     "text": [
      "[41004 78881]\n",
      "[7 1]\n"
     ]
    }
   ],
   "source": [
    "\n",
    "predId = train['resultsId'][0, : ,0]  # identifiants prédits avec le premier ranking\n",
    "\n",
    "uniques, counts = np.unique(predId, return_counts=True)\n",
    "\n",
    "print uniques\n",
    "print counts\n",
    "\n",
    "def compute_score(num):\n",
    "\n",
    "    predId = train['resultsId'][:,:,:num]\n",
    "\n",
    "    maj_Id = []\n",
    "    for i in range(len(predId)):\n",
    "        Ids, counts = np.unique(predId[i,:,:], return_counts=True)\n",
    "        index = np.argmax(counts)\n",
    "        maj_Id.append(Ids[index])\n",
    "\n",
    "    maj_Id = np.asarray(maj_Id)\n",
    "\n",
    "    predLabel = np.asarray([gallery[Id] for Id in maj_Id])\n",
    "\n",
    "    accuracy = np.mean(predLabel == train['probeLabel'][:, 0])\n",
    "    \n",
    "    return accuracy\n",
    "    "
   ]
  },
  {
   "cell_type": "code",
   "execution_count": 104,
   "metadata": {
    "collapsed": false
   },
   "outputs": [
    {
     "name": "stdout",
     "output_type": "stream",
     "text": [
      "1\n",
      "2\n",
      "3\n",
      "4\n",
      "5\n",
      "6\n",
      "7\n",
      "8\n",
      "9\n",
      "10\n",
      "11\n",
      "12\n",
      "13\n",
      "14\n",
      "15\n",
      "16\n",
      "17\n",
      "18\n",
      "19\n",
      "20\n",
      "21\n",
      "22\n",
      "23\n",
      "24\n",
      "25\n",
      "26\n",
      "27\n",
      "28\n",
      "29\n",
      "30\n",
      "31\n",
      "32\n",
      "33\n",
      "34\n",
      "35\n",
      "36\n",
      "37\n",
      "38\n",
      "39\n",
      "40\n",
      "41\n",
      "42\n",
      "43\n",
      "44\n",
      "45\n",
      "46\n",
      "47\n",
      "48\n",
      "49\n",
      "50\n",
      "51\n",
      "52\n",
      "53\n",
      "54\n",
      "55\n",
      "56\n",
      "57\n",
      "58\n",
      "59\n",
      "60\n",
      "61\n",
      "62\n",
      "63\n",
      "64\n",
      "65\n",
      "66\n",
      "67\n",
      "68\n",
      "69\n",
      "70\n",
      "71\n",
      "72\n",
      "73\n",
      "74\n",
      "75\n",
      "76\n",
      "77\n",
      "78\n",
      "79\n",
      "80\n",
      "81\n",
      "82\n",
      "83\n",
      "84\n",
      "85\n",
      "86\n",
      "87\n",
      "88\n",
      "89\n",
      "90\n",
      "91\n",
      "92\n",
      "93\n",
      "94\n",
      "95\n",
      "96\n",
      "97\n",
      "98\n",
      "99\n"
     ]
    }
   ],
   "source": [
    "scores = []\n",
    "for i in range(1,100):\n",
    "    print i\n",
    "    score = compute_score(i)\n",
    "    scores.append(score)"
   ]
  },
  {
   "cell_type": "code",
   "execution_count": 111,
   "metadata": {
    "collapsed": false
   },
   "outputs": [
    {
     "name": "stdout",
     "output_type": "stream",
     "text": [
      "best num: 7 0.9696809746\n"
     ]
    },
    {
     "data": {
      "text/plain": [
       "<matplotlib.text.Text at 0x7f018cb6de10>"
      ]
     },
     "execution_count": 111,
     "metadata": {},
     "output_type": "execute_result"
    },
    {
     "data": {
      "image/png": "[encoded data removed]",
      "text/plain": [
       "<matplotlib.figure.Figure at 0x7f018caf8d50>"
      ]
     },
     "metadata": {},
     "output_type": "display_data"
    }
   ],
   "source": [
    "scores = np.asarray(scores)\n",
    "\n",
    "num = range(1,100)\n",
    "\n",
    "best_num = num[np.argmax(scores)]\n",
    "\n",
    "print 'best num:', best_num, compute_score(best_num)\n",
    "\n",
    "\n",
    "\n",
    "fig = plt.figure(figsize=(13,9))\n",
    "ax = fig.gca()\n",
    "ax.plot(range(1,100), scores, marker='o')\n",
    "ax.set_xlabel('number of Ids from top')\n",
    "ax.set_ylabel('accuracy')"
   ]
  },
  {
   "cell_type": "markdown",
   "metadata": {},
   "source": [
    "## predictions sur les données test"
   ]
  },
  {
   "cell_type": "code",
   "execution_count": 120,
   "metadata": {
    "collapsed": false
   },
   "outputs": [
    {
     "name": "stdout",
     "output_type": "stream",
     "text": [
      "['galleryLabel', 'resultsId', 'probeId', '__header__', '__globals__', 'resultsScore', 'galleryId', '__version__']\n"
     ]
    }
   ],
   "source": [
    "test = io.loadmat('/home/max/projects/challengeMDI343/data/data_test.mat')\n",
    "print(train.keys())"
   ]
  },
  {
   "cell_type": "code",
   "execution_count": 121,
   "metadata": {
    "collapsed": false
   },
   "outputs": [
    {
     "name": "stdout",
     "output_type": "stream",
     "text": [
      "1067478\n",
      "1030529\n"
     ]
    }
   ],
   "source": [
    "print test['galleryId'][i][0]\n",
    "\n",
    "gallery_test = {test['galleryId'][i][0]: test['galleryLabel'][i][0] for i in range(len(test['galleryLabel']))}\n",
    "\n",
    "print gallery_test[1000143]"
   ]
  },
  {
   "cell_type": "code",
   "execution_count": 122,
   "metadata": {
    "collapsed": false
   },
   "outputs": [],
   "source": [
    "predId = test['resultsId'][:,:,:7]\n",
    "maj_Id = []\n",
    "for i in range(len(predId)):\n",
    "    Ids, counts = np.unique(predId[i,:,:], return_counts=True)\n",
    "    index = np.argmax(counts)\n",
    "    maj_Id.append(Ids[index])\n",
    "\n",
    "maj_Id = np.asarray(maj_Id)\n",
    "\n",
    "predLabel = np.asarray([gallery_test[Id] for Id in maj_Id])\n",
    "\n",
    "np.savetxt('soumission.txt', predLabel, fmt='%i')"
   ]
  }
 ],
 "metadata": {
  "kernelspec": {
   "display_name": "Python 2",
   "language": "python",
   "name": "python2"
  },
  "language_info": {
   "codemirror_mode": {
    "name": "ipython",
    "version": 2
   },
   "file_extension": ".py",
   "mimetype": "text/x-python",
   "name": "python",
   "nbconvert_exporter": "python",
   "pygments_lexer": "ipython2",
   "version": "2.7.11"
  }
 },
 "nbformat": 4,
 "nbformat_minor": 0
}
